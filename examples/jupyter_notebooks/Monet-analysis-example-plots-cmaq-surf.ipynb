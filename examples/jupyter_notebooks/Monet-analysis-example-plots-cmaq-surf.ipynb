{
 "cells": [
  {
   "cell_type": "markdown",
   "id": "90a3976e",
   "metadata": {},
   "source": [
    "# MONET-analysis dev \n",
    "\n",
    "First lets just import the driver to see how it happens and so we can play around with it a little "
   ]
  },
  {
   "cell_type": "code",
   "execution_count": 1,
   "id": "97c90b33",
   "metadata": {},
   "outputs": [],
   "source": [
    "from melodies_monet import driver"
   ]
  },
  {
   "cell_type": "markdown",
   "id": "1a889ab9",
   "metadata": {},
   "source": [
    "### Driver class\n",
    "\n",
    "Now lets create an instance of the python driver analysis class. It consists of 4 main parts; model instances, observation instances, a paired instance of both.  This will allow us to move things around the plotting function for spatial and overlays and more complex plots."
   ]
  },
  {
   "cell_type": "code",
   "execution_count": 2,
   "id": "b4a91f1e",
   "metadata": {
    "scrolled": true
   },
   "outputs": [],
   "source": [
    "an = driver.analysis()"
   ]
  },
  {
   "cell_type": "markdown",
   "id": "9ee8e282",
   "metadata": {},
   "source": [
    "If needed link files into one common directory to look at multiple days."
   ]
  },
  {
   "cell_type": "markdown",
   "id": "d871902d",
   "metadata": {},
   "source": [
    "### Control File\n",
    "\n",
    "set the yaml control file and begin by reading the file"
   ]
  },
  {
   "cell_type": "code",
   "execution_count": 3,
   "id": "5c4ccff5",
   "metadata": {
    "scrolled": true
   },
   "outputs": [
    {
     "data": {
      "text/plain": [
       "{'analysis': {'start_time': '2019-08-01-12:00:00',\n",
       "  'end_time': '2019-08-02-12:00:00',\n",
       "  'output_dir': '/scratch2/BMC/rcm1/rhs/fv3/regional/processed/surf_oper_rrfs_r131_v1/08_test/',\n",
       "  'debug': True},\n",
       " 'model': {'rrfs_r131v1': {'files': '/scratch2/BMC/rcm1/rhs/fv3/regional/processed/surf_oper_rrfs_r131_v1/08/data/rrfs/*0801*dynf*.nc',\n",
       "   'files_pm25': '/scratch2/BMC/rcm1/rhs/fv3/regional/processed/surf_oper_rrfs_r131_v1/08/data/rrfs/*0801*pm25tot_f*.nc',\n",
       "   'mod_type': 'rrfs',\n",
       "   'mod_kwargs': {'mech': 'cb6r3_ae6_aq', 'surf_only': True},\n",
       "   'radius_of_influence': 19500,\n",
       "   'mapping': {'airnow': {'co': 'CO',\n",
       "     'no2': 'NO2',\n",
       "     'no': 'NO',\n",
       "     'PM25_TOT': 'PM2.5',\n",
       "     'o3': 'OZONE'}},\n",
       "   'projection': 'None',\n",
       "   'plot_kwargs': {'color': 'dodgerblue', 'marker': 'D', 'linestyle': '-'}},\n",
       "  'cmaq_oper': {'files': '/scratch2/BMC/rcm1/rhs/fv3/regional/processed/surf_oper_rrfs_r131_v1/08/data/cmaq_oper/*0801*',\n",
       "   'mod_type': 'cmaq',\n",
       "   'mod_kwargs': {'concatenate_forecasts': True},\n",
       "   'radius_of_influence': 18000,\n",
       "   'mapping': {'airnow': {'CO': 'CO',\n",
       "     'NO2': 'NO2',\n",
       "     'NO': 'NO',\n",
       "     'PM25_TOT': 'PM2.5',\n",
       "     'O3': 'OZONE'}},\n",
       "   'projection': 'None',\n",
       "   'plot_kwargs': {'color': 'goldenrod', 'marker': 's', 'linestyle': '-'}},\n",
       "  'cmaq_expt': {'files': '/scratch2/BMC/rcm1/rhs/fv3/regional/processed/surf_oper_rrfs_r131_v1/08/data/cmaq_expt/*0801*',\n",
       "   'mod_type': 'cmaq',\n",
       "   'mod_kwargs': {'concatenate_forecasts': True},\n",
       "   'radius_of_influence': 18000,\n",
       "   'mapping': {'airnow': {'CO': 'CO',\n",
       "     'NO2': 'NO2',\n",
       "     'NO': 'NO',\n",
       "     'PM25_TOT': 'PM2.5',\n",
       "     'O3': 'OZONE'}},\n",
       "   'projection': 'None',\n",
       "   'plot_kwargs': {'color': 'magenta', 'marker': 'o', 'linestyle': '-'}}},\n",
       " 'obs': {'airnow': {'use_airnow': True,\n",
       "   'filename': '/scratch2/BMC/rcm1/rhs/MONET/MELODIES-MONET/melodies_monet/data/AIRNOW_20190801_20190831.nc',\n",
       "   'obs_type': 'pt_sfc',\n",
       "   'variables': {'PM2.5': {'unit_scale': 1,\n",
       "     'unit_scale_method': '*',\n",
       "     'nan_value': -1.0,\n",
       "     'ylabel_plot': 'PM2.5 (ug/m3)',\n",
       "     'ty_scale': 2.0,\n",
       "     'vmin_plot': 0.0,\n",
       "     'vmax_plot': 22.0,\n",
       "     'vdiff_plot': 15.0,\n",
       "     'nlevels_plot': 23},\n",
       "    'OZONE': {'unit_scale': 1,\n",
       "     'unit_scale_method': '*',\n",
       "     'nan_value': -1.0,\n",
       "     'ylabel_plot': 'Ozone (ppbv)',\n",
       "     'vmin_plot': 15.0,\n",
       "     'vmax_plot': 55.0,\n",
       "     'vdiff_plot': 20.0,\n",
       "     'nlevels_plot': 21},\n",
       "    'WS': {'unit_scale': 0.514, 'unit_scale_method': '*', 'obs_min': 0.2},\n",
       "    'PRSFC': {'unit_scale': 0.01, 'unit_scale_method': '*'},\n",
       "    'PRECIP': {'unit_scale': 0.1, 'unit_scale_method': '*'},\n",
       "    'TEMP': {'unit_scale': 273.16, 'unit_scale_method': '-'},\n",
       "    'CO': {'unit_scale': 1000.0,\n",
       "     'unit_scale_method': '*',\n",
       "     'nan_value': -1.0,\n",
       "     'ylabel_plot': 'CO (ppbv)',\n",
       "     'vmin_plot': 50.0,\n",
       "     'vmax_plot': 750.0,\n",
       "     'vdiff_plot': 400.0,\n",
       "     'nlevels_plot': 15},\n",
       "    'SO2': {'nan_value': -1.0, 'ylabel_plot': 'SO2 (ppbv)'},\n",
       "    'NO': {'nan_value': -1.0,\n",
       "     'ylabel_plot': 'NO (ppbv)',\n",
       "     'vmin_plot': 0.0,\n",
       "     'vmax_plot': 20.0,\n",
       "     'vdiff_plot': 15.0,\n",
       "     'nlevels_plot': 21},\n",
       "    'NO2': {'nan_value': -1.0,\n",
       "     'ylabel_plot': 'NO2 (ppbv)',\n",
       "     'vmin_plot': 0.0,\n",
       "     'vmax_plot': 20.0,\n",
       "     'vdiff_plot': 15.0,\n",
       "     'nlevels_plot': 21}}}},\n",
       " 'plots': {'plot_grp1': {'type': 'timeseries',\n",
       "   'fig_kwargs': {'figsize': [14, 6]},\n",
       "   'default_plot_kwargs': {'linewidth': 2.0, 'markersize': 2.0},\n",
       "   'text_kwargs': {'fontsize': 16.0},\n",
       "   'domain_type': ['all', 'epa_region'],\n",
       "   'domain_name': ['CONUS', 'R1'],\n",
       "   'data': ['airnow_rrfs_r131v1', 'airnow_cmaq_expt', 'airnow_cmaq_oper'],\n",
       "   'data_proc': {'rem_obs_nan': True,\n",
       "    'ts_select_time': 'time_local',\n",
       "    'ts_avg_window': 'H',\n",
       "    'set_axis': False}},\n",
       "  'plot_grp2': {'type': 'taylor',\n",
       "   'fig_kwargs': {'figsize': [8, 8]},\n",
       "   'default_plot_kwargs': {'markersize': 10.0},\n",
       "   'text_kwargs': {'fontsize': 16.0},\n",
       "   'domain_type': ['all'],\n",
       "   'domain_name': ['CONUS'],\n",
       "   'data': ['airnow_rrfs_r131v1', 'airnow_cmaq_expt', 'airnow_cmaq_oper'],\n",
       "   'data_proc': {'rem_obs_nan': True, 'set_axis': True}},\n",
       "  'plot_grp3': {'type': 'spatial_bias',\n",
       "   'fig_kwargs': {'states': True, 'figsize': [10, 5]},\n",
       "   'text_kwargs': {'fontsize': 16.0},\n",
       "   'domain_type': ['all'],\n",
       "   'domain_name': ['CONUS'],\n",
       "   'data': ['airnow_rrfs_r131v1', 'airnow_cmaq_expt', 'airnow_cmaq_oper'],\n",
       "   'data_proc': {'rem_obs_nan': True, 'set_axis': True}},\n",
       "  'plot_grp4': {'type': 'spatial_overlay',\n",
       "   'fig_kwargs': {'states': True, 'figsize': [10, 5]},\n",
       "   'text_kwargs': {'fontsize': 16.0},\n",
       "   'domain_type': ['all'],\n",
       "   'domain_name': ['CONUS'],\n",
       "   'data': ['airnow_rrfs_r131v1', 'airnow_cmaq_expt', 'airnow_cmaq_oper'],\n",
       "   'data_proc': {'rem_obs_nan': True, 'set_axis': True}},\n",
       "  'plot_grp5': {'type': 'boxplot',\n",
       "   'fig_kwargs': {'figsize': [8, 6]},\n",
       "   'text_kwargs': {'fontsize': 20.0},\n",
       "   'domain_type': ['all'],\n",
       "   'domain_name': ['CONUS'],\n",
       "   'data': ['airnow_rrfs_r131v1', 'airnow_cmaq_expt', 'airnow_cmaq_oper'],\n",
       "   'data_proc': {'rem_obs_nan': True, 'set_axis': False}}},\n",
       " 'stats': {'stat_list': ['MB', 'R2', 'RMSE'],\n",
       "  'round_output': 2,\n",
       "  'output_table': False,\n",
       "  'output_table_kwargs': {'figsize': [7, 3],\n",
       "   'fontsize': 12.0,\n",
       "   'xscale': 1.4,\n",
       "   'yscale': 1.4,\n",
       "   'edges': 'horizontal'},\n",
       "  'domain_type': ['all'],\n",
       "  'domain_name': ['CONUS'],\n",
       "  'data': ['airnow_rrfs_r131v1', 'airnow_cmaq_expt', 'airnow_cmaq_oper']}}"
      ]
     },
     "execution_count": 3,
     "metadata": {},
     "output_type": "execute_result"
    }
   ],
   "source": [
    "an.control = '../yaml/control_cmaq-rrfs_surface-all-short_test_jupyter.yaml'\n",
    "an.read_control() # control='control.yaml')\n",
    "an.control_dict"
   ]
  },
  {
   "cell_type": "markdown",
   "id": "2169e367",
   "metadata": {},
   "source": [
    "### Loading the model data \n",
    "\n",
    "driver will automatically loop through the \"models\" found in the model section of the yaml file and create an instance of the driver.model class for each that includes the label, mapping information, and xarray object as well as the filenames.  Note it can open multiple files easily by including hot keys "
   ]
  },
  {
   "cell_type": "code",
   "execution_count": null,
   "id": "8f7d8a34",
   "metadata": {},
   "outputs": [],
   "source": [
    "an.open_models()"
   ]
  },
  {
   "cell_type": "code",
   "execution_count": null,
   "id": "cbc1d02c",
   "metadata": {},
   "outputs": [],
   "source": [
    "#To help debug, you can print the models you incorporated\n",
    "an.models"
   ]
  },
  {
   "cell_type": "code",
   "execution_count": null,
   "id": "71d82e82",
   "metadata": {},
   "outputs": [],
   "source": [
    "#Update the name to one of the model names you used and you can print the object\n",
    "an.models['cmaq_expt'].obj"
   ]
  },
  {
   "cell_type": "code",
   "execution_count": null,
   "id": "c6d5b32a",
   "metadata": {
    "scrolled": true
   },
   "outputs": [],
   "source": [
    "#All the info in the analysis class can also be called.\n",
    "print(an.start_time)\n",
    "print(an.end_time)\n",
    "print(an.output_dir)"
   ]
  },
  {
   "cell_type": "markdown",
   "id": "9d546146",
   "metadata": {},
   "source": [
    "### Open Obs\n",
    "\n",
    "Now for monet-analysis we will open preprocessed data in either netcdf icartt or some other format.  We will not be retrieving data like monetio does for some observations (ie aeronet, airnow, etc....).  Instead we will provide utitilies to do this so that users can add more data easily.\n",
    "\n",
    "Like models we list all obs objects in the yaml file and it will loop through and create driver.observation instances that include the model type, file, objects (i.e. data object) and label  "
   ]
  },
  {
   "cell_type": "code",
   "execution_count": null,
   "id": "fc5bb44d",
   "metadata": {},
   "outputs": [],
   "source": [
    "an.open_obs()"
   ]
  },
  {
   "cell_type": "code",
   "execution_count": null,
   "id": "418a64dc",
   "metadata": {},
   "outputs": [],
   "source": [
    "#All the info in the observation class can also be called.\n",
    "an.obs['airnow'].obj"
   ]
  },
  {
   "cell_type": "code",
   "execution_count": null,
   "id": "27032e0d",
   "metadata": {
    "scrolled": true
   },
   "outputs": [],
   "source": [
    "#This pairs the data\n",
    "an.pair_data()"
   ]
  },
  {
   "cell_type": "code",
   "execution_count": null,
   "id": "d8deba70",
   "metadata": {},
   "outputs": [],
   "source": [
    "#And this generates all the plots.\n",
    "an.plotting()"
   ]
  },
  {
   "cell_type": "code",
   "execution_count": null,
   "id": "25c3a3a1",
   "metadata": {
    "scrolled": true
   },
   "outputs": [],
   "source": [
    "#This creates the stats. This is quite slow right now.\n",
    "#You are welcome to test, but it is underdevelopment.\n",
    "#Don't choose too many stats at once or too long of a \n",
    "#period or the code takes a long time to run.\n",
    "an.stats()"
   ]
  },
  {
   "cell_type": "code",
   "execution_count": null,
   "id": "db26e028",
   "metadata": {},
   "outputs": [],
   "source": []
  }
 ],
 "metadata": {
  "kernelspec": {
   "display_name": "Python 3 (ipykernel)",
   "language": "python",
   "name": "python3"
  },
  "language_info": {
   "codemirror_mode": {
    "name": "ipython",
    "version": 3
   },
   "file_extension": ".py",
   "mimetype": "text/x-python",
   "name": "python",
   "nbconvert_exporter": "python",
   "pygments_lexer": "ipython3",
   "version": "3.9.7"
  }
 },
 "nbformat": 4,
 "nbformat_minor": 5
}
