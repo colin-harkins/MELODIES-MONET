{
 "cells": [
  {
   "cell_type": "markdown",
   "id": "infectious-catch",
   "metadata": {},
   "source": [
    "## MONET-Analysis Airnow prep notebook\n",
    "\n",
    "### How to use\n",
    "\n",
    "- start notebook and \n",
    "- in cell 2 set the start date and end date\n",
    "- in cell 2 set the filename output (something like AIRNOW_STARTDATE_ENDDATE.nc with STARTDATE and ENDDATE in YYYYMMDD format)"
   ]
  },
  {
   "cell_type": "code",
   "execution_count": null,
   "id": "tired-therapist",
   "metadata": {},
   "outputs": [],
   "source": [
    "import monetio as mio\n",
    "import pandas as pd\n",
    "import xarray as xr\n",
    "from melodies_monet.util import write_util"
   ]
  },
  {
   "cell_type": "code",
   "execution_count": null,
   "id": "voluntary-private",
   "metadata": {},
   "outputs": [],
   "source": [
    "filename = 'AIRNOW_20190901_20190930.nc'\n",
    "dates = pd.date_range(start='2019-09-01',end='2019-09-30',freq='H')\n",
    "\n",
    "# helper function for local time.  Could be important for EPA statistics\n",
    "def get_local_time(ds):\n",
    "    from numpy import zeros\n",
    "    if 'utcoffset' in ds.data_vars:\n",
    "        tim = t.time.copy()\n",
    "        o = tim.expand_dims({'x':t.x.values}).transpose('time','x')\n",
    "        on = xr.Dataset({'time_local':o,'utcoffset':t.utcoffset})\n",
    "        y = on.to_dataframe()\n",
    "        y['time_local'] = y.time_local + pd.to_timedelta(y.utcoffset, unit='H')\n",
    "        time_local = y[['time_local']].to_xarray()\n",
    "        ds = xr.merge([ds,time_local])\n",
    "    return ds"
   ]
  },
  {
   "cell_type": "code",
   "execution_count": null,
   "id": "abandoned-damage",
   "metadata": {},
   "outputs": [],
   "source": [
    "df = mio.airnow.add_data(dates,wide_fmt=False,n_procs=12)"
   ]
  },
  {
   "cell_type": "code",
   "execution_count": null,
   "id": "gross-stretch",
   "metadata": {},
   "outputs": [],
   "source": [
    "df = df.dropna(subset=['latitude','longitude']) # drop all values without an assigned latitude and longitude \n",
    "dfp = df.rename({'siteid':'x'},axis=1).pivot_table(values='obs',index=['time','x'], columns=['variable']) # convert to wide format\n",
    "dfx = dfp.to_xarray() # convert to xarray \n",
    "# df.head()"
   ]
  },
  {
   "cell_type": "code",
   "execution_count": null,
   "id": "mineral-ideal",
   "metadata": {},
   "outputs": [],
   "source": [
    "# When converting to wide format we have to remerge the site data back into the file.  \n",
    "dfpsite = df.rename({'siteid':'x'},axis=1).drop_duplicates(subset=['x']) # droping duplicates and renaming \n",
    "# convert sites to xarray \n",
    "test = dfpsite.drop(['time','time_local','variable','obs'],axis=1).set_index('x').dropna(subset=['latitude','longitude']).to_xarray()\n",
    "# merge sites back into the data \n",
    "t = xr.merge([dfx,test])\n",
    "# get local time\n",
    "tt = get_local_time(t)"
   ]
  },
  {
   "cell_type": "code",
   "execution_count": null,
   "id": "extraordinary-practitioner",
   "metadata": {},
   "outputs": [],
   "source": [
    "# add siteid back as a variable and create x as an array of integers \n",
    "tt['siteid'] = (('x'),tt.x.values)\n",
    "tt['x'] = range(len(tt.x))\n",
    "# expand dimensions so that it is (time,y,x)\n",
    "t = tt.expand_dims('y').set_coords(['siteid','latitude','longitude']).transpose('time','y','x')\n",
    "t"
   ]
  },
  {
   "cell_type": "code",
   "execution_count": null,
   "id": "rolled-emission",
   "metadata": {},
   "outputs": [],
   "source": [
    "#wite out to filename set in cell 2\n",
    "write_util.write_ncf(t,filename)"
   ]
  },
  {
   "cell_type": "code",
   "execution_count": null,
   "id": "4014b675-4f3a-4b52-a282-7571b5653f47",
   "metadata": {},
   "outputs": [],
   "source": []
  },
  {
   "cell_type": "code",
   "execution_count": null,
   "id": "8a9b698d-53f7-425b-a088-871f1ca99caa",
   "metadata": {},
   "outputs": [],
   "source": []
  }
 ],
 "metadata": {
  "kernelspec": {
   "display_name": "Python 3 (ipykernel)",
   "language": "python",
   "name": "python3"
  },
  "language_info": {
   "codemirror_mode": {
    "name": "ipython",
    "version": 3
   },
   "file_extension": ".py",
   "mimetype": "text/x-python",
   "name": "python",
   "nbconvert_exporter": "python",
   "pygments_lexer": "ipython3",
   "version": "3.9.12"
  }
 },
 "nbformat": 4,
 "nbformat_minor": 5
}
