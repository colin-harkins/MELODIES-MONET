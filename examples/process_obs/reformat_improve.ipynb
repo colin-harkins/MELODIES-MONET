{
 "cells": [
  {
   "cell_type": "markdown",
   "id": "surgical-relevance",
   "metadata": {},
   "source": [
    "## MONET-Analysis Speciated PM prep notebook\n",
    "\n",
    "### How to use\n",
    "\n",
    "- start notebook and \n",
    "- in cell 2 set the start date and end date\n",
    "- in cell 2 set the filename output (something like AERONET_L15_STARTDATE_ENDDATE.nc with STARTDATE and ENDDATE in YYYYMMDD format)"
   ]
  },
  {
   "cell_type": "code",
   "execution_count": null,
   "id": "frequent-yukon",
   "metadata": {
    "tags": []
   },
   "outputs": [],
   "source": [
    "import monetio as mio\n",
    "import numpy as np\n",
    "import pandas as pd\n",
    "import xarray as xr\n",
    "from melodies_monet.util import write_util\n",
    "import os\n",
    "\n",
    "import warnings\n",
    "warnings.filterwarnings('ignore')\n",
    "# helper function for site ids\n",
    "def get_siteid(df):\n",
    "    try:\n",
    "        df['siteid'] = df.state_code.astype(str).str.zfill(2) + df.county_code.astype(str).str.zfill(3) + df.site_num.astype(str).str.zfill(4) +  df.parameter_code.astype(str).str.zfill(5) + df.poc.astype(str)\n",
    "        df['siteid2'] = df.state_code.astype(str).str.zfill(2) + df.county_code.astype(str).str.zfill(3) + df.site_num.astype(str).str.zfill(4)\n",
    "    except:\n",
    "        df['siteid'] = df.state_code.astype(str).str.zfill(2) + df.county_code.astype(str).str.zfill(3) + df.site_number.astype(str).str.zfill(4) + df.parameter_code.astype(str).str.zfill(5) + df.poc.astype(str)\n",
    "        df['siteid2'] = df.state_code.astype(str).str.zfill(2) + df.county_code.astype(str).str.zfill(3) + df.site_number.astype(str).str.zfill(4)\n",
    "    return df\n",
    "\n",
    "#helper function to get the site data \n",
    "def read_site_df(url='https://aqs.epa.gov/aqsweb/airdata/aqs_monitors.zip'):\n",
    "    sitedf = pd.read_csv(url)\n",
    "    sitedf.columns = [ i.lower().replace(' ','_') for i in sitedf.columns]\n",
    "    sitedf = get_siteid(sitedf)\n",
    "    drop_vars = ['state_code', 'county_code', 'site_number',\n",
    "       'reporting_agency', 'pqao', 'collecting_agency', 'exclusions',\n",
    "       'monitoring_objective', 'last_method_code', 'last_method',\n",
    "       'measurement_scale', 'measurement_scale_definition',\n",
    "       'naaqs_primary_monitor', 'qa_primary_monitor', 'local_site_name',\n",
    "       'address', 'county_name', 'city_name', \n",
    "       'tribe_name', 'extraction_date','datum',\n",
    "       'first_year_of_data', 'last_sample_date' ,'parameter_name','poc']\n",
    "    sitedf = sitedf.drop(drop_vars,axis=1)\n",
    "    return sitedf"
   ]
  },
  {
   "cell_type": "code",
   "execution_count": null,
   "id": "driven-shooting",
   "metadata": {
    "tags": []
   },
   "outputs": [],
   "source": [
    "# set the dates\n",
    "dates = pd.date_range(start='2019-08-01',end='2019-08-31',freq='H') # note this just get the start year for these \n",
    "\n",
    "#SET NETWORK\n",
    "network = 'NCORE' # CSN NCORE CASTNET IMPROVE\n",
    "\n",
    "# set the output filename\n",
    "outname = '{}_DAILY_2019.nc'.format(network)\n",
    "\n",
    "# add the data\n",
    "df = mio.aqs.add_data(dates,param=['PM10SPEC', 'SPEC'], wide_fmt=False, daily=True)\n",
    "\n",
    "# add siteids (this is broken in monetio currently...need to fix)\n",
    "df = get_siteid(df)\n",
    "\n",
    "#drop any data with nans \n",
    "df['obs'][df.obs <= 0] = np.nan\n",
    "df = df.dropna(subset=['obs']).dropna(subset=['latitude','longitude'])"
   ]
  },
  {
   "cell_type": "code",
   "execution_count": null,
   "id": "f11e56c6-f0d2-4224-be34-fbd6f3add70a",
   "metadata": {},
   "outputs": [],
   "source": [
    "# add the site data \n",
    "sitedf = read_site_df() # pd.read_csv('https://aqs.epa.gov/aqsweb/airdata/aqs_monitors.zip')\n",
    "sitedf['networks'] = sitedf.networks.fillna('UNSPECIFIED')\n",
    "site_network = sitedf.loc[sitedf.networks.str.contains(network)].drop(['parameter_code','siteid'],axis=1)\n",
    "sn = site_network.rename({'siteid2':'x'},axis=1).drop_duplicates(subset=['x'])"
   ]
  },
  {
   "cell_type": "code",
   "execution_count": null,
   "id": "01af9a6a-d519-4701-9c02-71c5765bff33",
   "metadata": {},
   "outputs": [],
   "source": [
    "# drop the sites not in the current network\n",
    "dff = df.loc[df.siteid2.isin(site_network.siteid2)].rename({'time_local':'time','siteid2':'x'}, axis=1).pivot_table(values='obs',index=['time','x'], columns=['variable'])\n",
    "dfp = dff.groupby(level=dff.index.names).mean().to_xarray()"
   ]
  },
  {
   "cell_type": "code",
   "execution_count": null,
   "id": "5f6bacda-b52b-4b7c-a7c3-da027c77ba1e",
   "metadata": {},
   "outputs": [],
   "source": [
    "# now drop non-active sites for this network for the given year\n",
    "sn = sn.loc[sn.x.isin(dff.reset_index().x)].drop_duplicates(subset=['x'])\n",
    "# convert to xarray \n",
    "sn = sn.set_index(['x']).to_xarray()"
   ]
  },
  {
   "cell_type": "code",
   "execution_count": null,
   "id": "2d441372-2e58-440e-bc59-6892e61e1403",
   "metadata": {},
   "outputs": [],
   "source": [
    "# join data and site xarray objects \n",
    "output = xr.merge([dfp,sn],join='inner')\n",
    "#expand dims for (time,y,x)\n",
    "output = output.expand_dims('y').transpose('time','y','x')"
   ]
  },
  {
   "cell_type": "code",
   "execution_count": null,
   "id": "0f25d7ad-6b94-4fc2-b741-816a26d9f78a",
   "metadata": {},
   "outputs": [],
   "source": [
    "#write the file \n",
    "print(os.path.join('data',outname))\n",
    "d = {}\n",
    "for i in output.data_vars:\n",
    "    d[i] = output[i].name.replace(' ','_')\n",
    "output.rename(d)\n",
    "write_util.write_ncf(output,outname)# os.path.join('data',outname))\n",
    "# write_util.write_ncf(t,filename)"
   ]
  },
  {
   "cell_type": "code",
   "execution_count": null,
   "id": "810c21fb-2cbb-4f78-a80a-b131ddf4695f",
   "metadata": {},
   "outputs": [],
   "source": []
  },
  {
   "cell_type": "code",
   "execution_count": null,
   "id": "b6b5536b-262c-4f1c-9499-ba74bf2c03bd",
   "metadata": {},
   "outputs": [],
   "source": []
  }
 ],
 "metadata": {
  "kernelspec": {
   "display_name": "Python 3 (ipykernel)",
   "language": "python",
   "name": "python3"
  },
  "language_info": {
   "codemirror_mode": {
    "name": "ipython",
    "version": 3
   },
   "file_extension": ".py",
   "mimetype": "text/x-python",
   "name": "python",
   "nbconvert_exporter": "python",
   "pygments_lexer": "ipython3",
   "version": "3.9.12"
  }
 },
 "nbformat": 4,
 "nbformat_minor": 5
}
