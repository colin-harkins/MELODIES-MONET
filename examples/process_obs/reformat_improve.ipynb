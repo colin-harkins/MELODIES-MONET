{
 "cells": [
  {
   "cell_type": "markdown",
   "id": "surgical-relevance",
   "metadata": {},
   "source": [
    "## MONET-Analysis Speciated PM prep notebook\n",
    "\n",
    "### How to use\n",
    "\n",
    "- start notebook and \n",
    "- in cell 2 set the start date and end date\n",
    "- in cell 2 set the filename output (something like AERONET_L15_STARTDATE_ENDDATE.nc with STARTDATE and ENDDATE in YYYYMMDD format)"
   ]
  },
  {
   "cell_type": "code",
   "execution_count": 1,
   "id": "frequent-yukon",
   "metadata": {
    "tags": []
   },
   "outputs": [],
   "source": [
    "import monetio as mio\n",
    "import numpy as np\n",
    "import pandas as pd\n",
    "import xarray as xr\n",
    "from util import write_util\n",
    "import os\n",
    "\n",
    "import warnings\n",
    "warnings.filterwarnings('ignore')\n",
    "# helper function for site ids\n",
    "def get_siteid(df):\n",
    "    try:\n",
    "        df['siteid'] = df.state_code.astype(str).str.zfill(2) + df.county_code.astype(str).str.zfill(3) + df.site_num.astype(str).str.zfill(4) +  df.parameter_code.astype(str).str.zfill(5) + df.poc.astype(str)\n",
    "        df['siteid2'] = df.state_code.astype(str).str.zfill(2) + df.county_code.astype(str).str.zfill(3) + df.site_num.astype(str).str.zfill(4)\n",
    "    except:\n",
    "        df['siteid'] = df.state_code.astype(str).str.zfill(2) + df.county_code.astype(str).str.zfill(3) + df.site_number.astype(str).str.zfill(4) + df.parameter_code.astype(str).str.zfill(5) + df.poc.astype(str)\n",
    "        df['siteid2'] = df.state_code.astype(str).str.zfill(2) + df.county_code.astype(str).str.zfill(3) + df.site_number.astype(str).str.zfill(4)\n",
    "    return df\n",
    "\n",
    "#helper function to get the site data \n",
    "def read_site_df(url='https://aqs.epa.gov/aqsweb/airdata/aqs_monitors.zip'):\n",
    "    sitedf = pd.read_csv(url)\n",
    "    sitedf.columns = [ i.lower().replace(' ','_') for i in sitedf.columns]\n",
    "    sitedf = get_siteid(sitedf)\n",
    "    drop_vars = ['state_code', 'county_code', 'site_number',\n",
    "       'reporting_agency', 'pqao', 'collecting_agency', 'exclusions',\n",
    "       'monitoring_objective', 'last_method_code', 'last_method',\n",
    "       'measurement_scale', 'measurement_scale_definition',\n",
    "       'naaqs_primary_monitor', 'qa_primary_monitor', 'local_site_name',\n",
    "       'address', 'county_name', 'city_name', \n",
    "       'tribe_name', 'extraction_date','datum',\n",
    "       'first_year_of_data', 'last_sample_date' ,'parameter_name','poc']\n",
    "    sitedf = sitedf.drop(drop_vars,axis=1)\n",
    "    return sitedf"
   ]
  },
  {
   "cell_type": "code",
   "execution_count": 2,
   "id": "driven-shooting",
   "metadata": {
    "tags": []
   },
   "outputs": [
    {
     "name": "stdout",
     "output_type": "stream",
     "text": [
      "[########################################] | 100% Completed |  4.3s\n",
      "[########################################] | 100% Completed |  4.4s\n",
      "[########################################] | 100% Completed |  4.5s\n",
      "[########################################] | 100% Completed |  4.6s\n",
      "[########################################] | 100% Completed | 38.7s\n",
      "[########################################] | 100% Completed | 38.8s\n",
      "[########################################] | 100% Completed | 38.9s\n",
      "[########################################] | 100% Completed | 39.0s\n"
     ]
    }
   ],
   "source": [
    "# set the dates\n",
    "dates = pd.date_range(start='2019-08-01',end='2019-08-31',freq='H') # note this just get the start year for these \n",
    "\n",
    "#SET NETWORK\n",
    "network = 'NCORE' # CSN NCORE CASTNET IMPROVE\n",
    "\n",
    "# set the output filename\n",
    "outname = '{}_DAILY_2019.nc'.format(network)\n",
    "\n",
    "# add the data\n",
    "df = mio.aqs.add_data(dates,param=['PM10SPEC', 'SPEC'], wide_fmt=False, daily=True)\n",
    "\n",
    "# add siteids (this is broken in monetio currently...need to fix)\n",
    "df = get_siteid(df)\n",
    "\n",
    "#drop any data with nans \n",
    "df['obs'][df.obs <= 0] = np.nan\n",
    "df = df.dropna(subset=['obs']).dropna(subset=['latitude','longitude'])"
   ]
  },
  {
   "cell_type": "code",
   "execution_count": 3,
   "id": "f11e56c6-f0d2-4224-be34-fbd6f3add70a",
   "metadata": {},
   "outputs": [],
   "source": [
    "# add the site data \n",
    "sitedf = read_site_df() # pd.read_csv('https://aqs.epa.gov/aqsweb/airdata/aqs_monitors.zip')\n",
    "sitedf['networks'] = sitedf.networks.fillna('UNSPECIFIED')\n",
    "site_network = sitedf.loc[sitedf.networks.str.contains(network)].drop(['parameter_code','siteid'],axis=1)\n",
    "sn = site_network.rename({'siteid2':'x'},axis=1).drop_duplicates(subset=['x'])"
   ]
  },
  {
   "cell_type": "code",
   "execution_count": 4,
   "id": "01af9a6a-d519-4701-9c02-71c5765bff33",
   "metadata": {},
   "outputs": [],
   "source": [
    "# drop the sites not in the current network\n",
    "dff = df.loc[df.siteid2.isin(site_network.siteid2)].rename({'time_local':'time','siteid2':'x'}, axis=1).pivot_table(values='obs',index=['time','x'], columns=['variable'])\n",
    "dfp = dff.groupby(level=dff.index.names).mean().to_xarray()"
   ]
  },
  {
   "cell_type": "code",
   "execution_count": 5,
   "id": "5f6bacda-b52b-4b7c-a7c3-da027c77ba1e",
   "metadata": {},
   "outputs": [],
   "source": [
    "# now drop non-active sites for this network for the given year\n",
    "sn = sn.loc[sn.x.isin(dff.reset_index().x)].drop_duplicates(subset=['x'])\n",
    "# convert to xarray \n",
    "sn = sn.set_index(['x']).to_xarray()"
   ]
  },
  {
   "cell_type": "code",
   "execution_count": 6,
   "id": "2d441372-2e58-440e-bc59-6892e61e1403",
   "metadata": {},
   "outputs": [],
   "source": [
    "# join data and site xarray objects \n",
    "output = xr.merge([dfp,sn],join='inner')\n",
    "#expand dims for (time,y,x)\n",
    "output = output.expand_dims('y').transpose('time','y','x')"
   ]
  },
  {
   "cell_type": "code",
   "execution_count": 7,
   "id": "0f25d7ad-6b94-4fc2-b741-816a26d9f78a",
   "metadata": {},
   "outputs": [
    {
     "name": "stdout",
     "output_type": "stream",
     "text": [
      "data/NCORE_DAILY_2019.nc\n",
      "Writing: NCORE_DAILY_2019.nc\n",
      "Compressing: Aluminum PM2.5 LC, original_dtype: float64\n",
      "Compressing: Ambient Max Temperature, original_dtype: float64\n",
      "Compressing: Ambient Min Temperature, original_dtype: float64\n",
      "Compressing: Ammonium Ion PM2.5 LC, original_dtype: float64\n",
      "Compressing: Antimony PM10 LC, original_dtype: float64\n",
      "Compressing: Antimony PM10 STP, original_dtype: float64\n",
      "Compressing: Antimony PM2.5 LC, original_dtype: float64\n",
      "Compressing: Arsenic PM10 LC, original_dtype: float64\n",
      "Compressing: Arsenic PM10 STP, original_dtype: float64\n",
      "Compressing: Arsenic PM2.5 LC, original_dtype: float64\n",
      "Compressing: Average Ambient Pressure, original_dtype: float64\n",
      "Compressing: Average Ambient Pressure for URG3000N, original_dtype: float64\n",
      "Compressing: Average Ambient Temperature, original_dtype: float64\n",
      "Compressing: Average Ambient Temperature for URG3000N, original_dtype: float64\n",
      "Compressing: Barium PM10 LC, original_dtype: float64\n",
      "Compressing: Barium PM2.5 LC, original_dtype: float64\n",
      "Compressing: Beryllium PM10 LC, original_dtype: float64\n",
      "Compressing: Beryllium PM10 STP, original_dtype: float64\n",
      "Compressing: Black Carbon PM2.5 at 880 nm, original_dtype: float64\n",
      "Compressing: Bromine PM2.5 LC, original_dtype: float64\n",
      "Compressing: Cadmium PM10 LC, original_dtype: float64\n",
      "Compressing: Cadmium PM10 STP, original_dtype: float64\n",
      "Compressing: Cadmium PM2.5 LC, original_dtype: float64\n",
      "Compressing: Calcium PM2.5 LC, original_dtype: float64\n",
      "Compressing: Cerium PM2.5 LC, original_dtype: float64\n",
      "Compressing: Cesium PM2.5 LC, original_dtype: float64\n",
      "Compressing: Chloride PM10 STP, original_dtype: float64\n",
      "Compressing: Chloride PM2.5 LC, original_dtype: float64\n",
      "Compressing: Chlorine PM2.5 LC, original_dtype: float64\n",
      "Compressing: Chromium PM10 LC, original_dtype: float64\n",
      "Compressing: Chromium PM10 STP, original_dtype: float64\n",
      "Compressing: Chromium PM2.5 LC, original_dtype: float64\n",
      "Compressing: Cobalt PM10 LC, original_dtype: float64\n",
      "Compressing: Cobalt PM10 STP, original_dtype: float64\n",
      "Compressing: Cobalt PM2.5 LC, original_dtype: float64\n",
      "Compressing: Copper PM2.5 LC, original_dtype: float64\n",
      "Compressing: EC CSN PM2.5 LC TOT, original_dtype: float64\n",
      "Compressing: EC CSN_Rev Unadjusted PM2.5 LC TOR, original_dtype: float64\n",
      "Compressing: EC CSN_Rev Unadjusted PM2.5 LC TOT, original_dtype: float64\n",
      "Compressing: EC PM2.5 LC TOR, original_dtype: float64\n",
      "Compressing: EC PM2.5 LC TOT, original_dtype: float64\n",
      "Compressing: EC1 CSN_Rev Unadjusted PM2.5 LC, original_dtype: float64\n",
      "Compressing: EC1 PM2.5 LC, original_dtype: float64\n",
      "Compressing: EC2 CSN_Rev Unadjusted PM2.5 LC, original_dtype: float64\n",
      "Compressing: EC2 PM2.5 LC, original_dtype: float64\n",
      "Compressing: EC3 CSN_Rev Unadjusted PM2.5 LC, original_dtype: float64\n",
      "Compressing: EC3 PM2.5 LC, original_dtype: float64\n",
      "Compressing: Indium PM2.5 LC, original_dtype: float64\n",
      "Compressing: Iron PM2.5 LC, original_dtype: float64\n",
      "Compressing: Lead PM10 LC, original_dtype: float64\n",
      "Compressing: Lead PM10 STP, original_dtype: float64\n",
      "Compressing: Lead PM2.5 LC, original_dtype: float64\n",
      "Compressing: Magnesium PM2.5 LC, original_dtype: float64\n",
      "Compressing: Manganese PM10 LC, original_dtype: float64\n",
      "Compressing: Manganese PM10 STP, original_dtype: float64\n",
      "Compressing: Manganese PM2.5 LC, original_dtype: float64\n",
      "Compressing: Mercury PM10 LC, original_dtype: float64\n",
      "Compressing: Mercury PM10 STP, original_dtype: float64\n",
      "Compressing: Molybdenum PM10 LC, original_dtype: float64\n",
      "Compressing: Nickel PM10 LC, original_dtype: float64\n",
      "Compressing: Nickel PM10 STP, original_dtype: float64\n",
      "Compressing: Nickel PM2.5 LC, original_dtype: float64\n",
      "Compressing: Nitrate PM10 STP, original_dtype: float64\n",
      "Compressing: OC CSN Unadjusted PM2.5 LC TOT, original_dtype: float64\n",
      "Compressing: OC CSN_Rev Unadjusted PM2.5 LC TOR, original_dtype: float64\n",
      "Compressing: OC CSN_Rev Unadjusted PM2.5 LC TOT, original_dtype: float64\n",
      "Compressing: OC PM2.5 LC TOR, original_dtype: float64\n",
      "Compressing: OC PM2.5 LC TOT, original_dtype: float64\n",
      "Compressing: OC1 CSN_Rev Unadjusted PM2.5 LC, original_dtype: float64\n",
      "Compressing: OC1 PM2.5 LC, original_dtype: float64\n",
      "Compressing: OC2 CSN_Rev Unadjusted PM2.5 LC, original_dtype: float64\n",
      "Compressing: OC2 PM2.5 LC, original_dtype: float64\n",
      "Compressing: OC3 CSN_Rev Unadjusted PM2.5 LC, original_dtype: float64\n",
      "Compressing: OC3 PM2.5 LC, original_dtype: float64\n",
      "Compressing: OC4 CSN_Rev Unadjusted PM2.5 LC, original_dtype: float64\n",
      "Compressing: OC4 PM2.5 LC, original_dtype: float64\n",
      "Compressing: OP CSN_Rev Unadjusted PM2.5 LC TOR, original_dtype: float64\n",
      "Compressing: OP CSN_Rev Unadjusted PM2.5 LC TOT, original_dtype: float64\n",
      "Compressing: OP PM2.5 LC TOR, original_dtype: float64\n",
      "Compressing: OP PM2.5 LC TOT, original_dtype: float64\n",
      "Compressing: PM10 - LC, original_dtype: float64\n",
      "Compressing: PM10 Total 0-10um STP, original_dtype: float64\n",
      "Compressing: Phosphorus PM2.5 LC, original_dtype: float64\n",
      "Compressing: Potassium Ion PM2.5 LC, original_dtype: float64\n",
      "Compressing: Potassium PM2.5 LC, original_dtype: float64\n",
      "Compressing: Reconstructed Mass PM2.5 LC, original_dtype: float64\n",
      "Compressing: Rubidium PM2.5 LC, original_dtype: float64\n",
      "Compressing: Sample Flow Rate CV - Nylon Filter, original_dtype: float64\n",
      "Compressing: Sample Flow Rate CV - Quartz Filter, original_dtype: float64\n",
      "Compressing: Sample Flow Rate CV - Teflon Filter, original_dtype: float64\n",
      "Compressing: Sample Flow Rate- CV, original_dtype: float64\n",
      "Compressing: Sample Max Baro Pressure, original_dtype: float64\n",
      "Compressing: Sample Min Baro Pressure, original_dtype: float64\n",
      "Compressing: Sample Volume, original_dtype: float64\n",
      "Compressing: Sample Volume - Nylon Filter, original_dtype: float64\n",
      "Compressing: Sample Volume - Quartz Filter, original_dtype: float64\n",
      "Compressing: Sample Volume - Teflon Filter, original_dtype: float64\n",
      "Compressing: Selenium PM10 LC, original_dtype: float64\n",
      "Compressing: Selenium PM10 STP, original_dtype: float64\n",
      "Compressing: Selenium PM2.5 LC, original_dtype: float64\n",
      "Compressing: Silicon PM2.5 LC, original_dtype: float64\n",
      "Compressing: Silver PM10 LC, original_dtype: float64\n",
      "Compressing: Silver PM2.5 LC, original_dtype: float64\n",
      "Compressing: Sodium Ion Pm2.5 LC, original_dtype: float64\n",
      "Compressing: Sodium PM2.5 LC, original_dtype: float64\n",
      "Compressing: Soil PM2.5 LC, original_dtype: float64\n",
      "Compressing: Strontium PM10 LC, original_dtype: float64\n",
      "Compressing: Strontium PM2.5 LC, original_dtype: float64\n",
      "Compressing: Sulfate PM10 STP, original_dtype: float64\n",
      "Compressing: Sulfate PM2.5 LC, original_dtype: float64\n",
      "Compressing: Sulfur PM2.5 LC, original_dtype: float64\n",
      "Compressing: Tin PM2.5 LC, original_dtype: float64\n",
      "Compressing: Titanium PM2.5 LC, original_dtype: float64\n",
      "Compressing: Total Nitrate PM2.5 LC, original_dtype: float64\n",
      "Compressing: Total_Carbon_PM25_LC_TOT, original_dtype: float64\n",
      "Compressing: UV Carbon PM2.5 at 370 nm, original_dtype: float64\n",
      "Compressing: Vanadium PM10 LC, original_dtype: float64\n",
      "Compressing: Vanadium PM2.5 LC, original_dtype: float64\n",
      "Compressing: Zinc PM2.5 LC, original_dtype: float64\n",
      "Compressing: Zirconium PM2.5 LC, original_dtype: float64\n",
      "Compressing: latitude, original_dtype: float64\n",
      "Compressing: longitude, original_dtype: float64\n"
     ]
    }
   ],
   "source": [
    "#write the file \n",
    "print(os.path.join('data',outname))\n",
    "d = {}\n",
    "for i in output.data_vars:\n",
    "    d[i] = output[i].name.replace(' ','_')\n",
    "output.rename(d)\n",
    "write_util.write_ncf(output,outname)# os.path.join('data',outname))\n",
    "# write_util.write_ncf(t,filename)"
   ]
  },
  {
   "cell_type": "code",
   "execution_count": 11,
   "id": "810c21fb-2cbb-4f78-a80a-b131ddf4695f",
   "metadata": {},
   "outputs": [
    {
     "name": "stdout",
     "output_type": "stream",
     "text": [
      "-rw-r--r-- 1 bbaker25 users 3.1M Jun  7 14:52 NCORE_DAILY_2019.nc\n",
      "-rw-r--r-- 1 bbaker25 users  15M May 20 14:58 test15.nc\n",
      "-rw-r--r-- 1 bbaker25 users 5.3M May 17 13:01 test3.nc\n",
      "-rw-r--r-- 1 bbaker25 users  29M May 17 13:01 test5.nc\n"
     ]
    }
   ],
   "source": [
    "ls -lh *.nc "
   ]
  },
  {
   "cell_type": "code",
   "execution_count": null,
   "id": "b6b5536b-262c-4f1c-9499-ba74bf2c03bd",
   "metadata": {},
   "outputs": [],
   "source": []
  }
 ],
 "metadata": {
  "kernelspec": {
   "display_name": "dev",
   "language": "python",
   "name": "dev"
  },
  "language_info": {
   "codemirror_mode": {
    "name": "ipython",
    "version": 3
   },
   "file_extension": ".py",
   "mimetype": "text/x-python",
   "name": "python",
   "nbconvert_exporter": "python",
   "pygments_lexer": "ipython3",
   "version": "3.9.2"
  }
 },
 "nbformat": 4,
 "nbformat_minor": 5
}
